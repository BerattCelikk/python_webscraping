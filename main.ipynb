{
 "cells": [
  {
   "cell_type": "code",
   "execution_count": 12,
   "id": "aed49b32",
   "metadata": {},
   "outputs": [],
   "source": [
    "#libraries\n",
    "import requests \n",
    "import json\n",
    "from bs4 import BeautifulSoup"
   ]
  },
  {
   "cell_type": "code",
   "execution_count": 13,
   "id": "914dee21",
   "metadata": {},
   "outputs": [
    {
     "name": "stdout",
     "output_type": "stream",
     "text": [
      "200\n",
      "<!DOCTYPE html>\n",
      "<html class=\"client-nojs vector-feature-language-in-header-enabled vector-feature-language-in-main-page-header-disabled vector-feature-page-tools-pinned-disabled vector-feature-toc-pinned-clientpref-1 vector-feature-main-menu-pinned-disabled vector-feature-limited-width-clientpref-1 \n"
     ]
    }
   ],
   "source": [
    "url = \"https://en.wikipedia.org/wiki/Museum_of_the_Future\"\n",
    "headers = {\n",
    "    \"User-Agent\": \"Chrome/120.0 Safari/537.36\"\n",
    "}\n",
    "\n",
    "response = requests.get(url, headers=headers)\n",
    "print(response.status_code)\n",
    "print(response.text[:300])"
   ]
  },
  {
   "cell_type": "markdown",
   "id": "f311c6b9",
   "metadata": {},
   "source": [
    "200 means OK → The request was successful, and the page was fetched without errors.\n",
    "\n",
    "!DOCTYPE html ->This tells the browser that the document is an HTML5 page."
   ]
  },
  {
   "cell_type": "code",
   "execution_count": 14,
   "id": "0cc034c6",
   "metadata": {},
   "outputs": [],
   "source": [
    "soup = BeautifulSoup(response.text, \"html.parser\")\n",
    "\n",
    "infobox = soup.find(\"table\", {\"class\": \"infobox\"})"
   ]
  },
  {
   "cell_type": "markdown",
   "id": "f543d35b",
   "metadata": {},
   "source": [
    "soup = BeautifulSoup(response.text, \"html.parser\")\n",
    "\n",
    "Parses the page’s HTML with BeautifulSoup, turning it into a searchable structure."
   ]
  },
  {
   "cell_type": "code",
   "execution_count": 15,
   "id": "8f37bfc3",
   "metadata": {},
   "outputs": [
    {
     "name": "stdout",
     "output_type": "stream",
     "text": [
      "Established : February 22, 2022 ( 2022-02-22 )\n",
      "Location : Sheikh Zayed Road , Trade Centre 2, Dubai , United Arab Emirates\n",
      "Type : Exhibition and Immersive theatre\n",
      "Founder : Dubai government\n",
      "Architect : Killa Design\n",
      "Website : museumofthefuture .ae /en\n"
     ]
    }
   ],
   "source": [
    "rows = infobox.find_all(\"tr\")\n",
    "\n",
    "for row in rows:\n",
    "    header = row.find(\"th\")   \n",
    "    data = row.find(\"td\")    \n",
    "    if header and data:\n",
    "        key = header.get_text(strip=True)\n",
    "        value = data.get_text(\" \", strip=True)\n",
    "        print(key, \":\", value)\n"
   ]
  },
  {
   "cell_type": "code",
   "execution_count": 16,
   "id": "c1ff9793",
   "metadata": {},
   "outputs": [
    {
     "name": "stdout",
     "output_type": "stream",
     "text": [
      "Name: Museum of the Future\n"
     ]
    }
   ],
   "source": [
    "#name\n",
    "name = soup.find(\"h1\", {\"id\": \"firstHeading\"}).get_text(strip=True)\n",
    "print(\"Name:\", name)\n"
   ]
  },
  {
   "cell_type": "code",
   "execution_count": 17,
   "id": "c21b2be8",
   "metadata": {},
   "outputs": [
    {
     "name": "stdout",
     "output_type": "stream",
     "text": [
      "City: Dubai\n"
     ]
    }
   ],
   "source": [
    "#city\n",
    "city = None\n",
    "for row in rows:\n",
    "    header = row.find(\"th\")\n",
    "    data = row.find(\"td\")\n",
    "    if header and data:\n",
    "        key = header.get_text(strip=True)\n",
    "        value = data.get_text(\" \", strip=True)\n",
    "        if key == \"Location\":\n",
    "            parts = value.split(\",\")\n",
    "            city = parts[-2].strip() if len(parts) >= 2 else parts[0].strip()\n",
    "print(\"City:\", city)\n"
   ]
  },
  {
   "cell_type": "code",
   "execution_count": 18,
   "id": "c999c7fc",
   "metadata": {},
   "outputs": [
    {
     "name": "stdout",
     "output_type": "stream",
     "text": [
      "Description: Museum of the Future is a exhibition and immersive theatre in Dubai.\n"
     ]
    }
   ],
   "source": [
    "#description\n",
    "description = None\n",
    "for row in rows:\n",
    "    header = row.find(\"th\")\n",
    "    data = row.find(\"td\")\n",
    "    if header and data:\n",
    "        key = header.get_text(strip=True)\n",
    "        value = data.get_text(\" \", strip=True)\n",
    "        if key == \"Type\": \n",
    "            description = f\"{name} is a {value.lower()} in {city}.\"\n",
    "            break\n",
    "\n",
    "print(\"Description:\", description)\n"
   ]
  },
  {
   "cell_type": "code",
   "execution_count": 19,
   "id": "b0f5cc78",
   "metadata": {},
   "outputs": [
    {
     "name": "stdout",
     "output_type": "stream",
     "text": [
      "Coordinates: {'lat': 25.2191194, 'lon': 55.2821}\n"
     ]
    }
   ],
   "source": [
    "# Coordinates\n",
    "coordinates = None\n",
    "coord_span = soup.find(\"span\", {\"class\": \"geo\"})\n",
    "if coord_span:\n",
    "    try:\n",
    "        lat_str, lon_str = coord_span.get_text().split(\";\")\n",
    "        coordinates = {\"lat\": float(lat_str), \"lon\": float(lon_str)}\n",
    "    except:\n",
    "        coordinates = None\n",
    "\n",
    "print(\"Coordinates:\", coordinates)\n"
   ]
  },
  {
   "cell_type": "code",
   "execution_count": 20,
   "id": "3ca19ff8",
   "metadata": {},
   "outputs": [
    {
     "name": "stdout",
     "output_type": "stream",
     "text": [
      "{'name': 'Museum of the Future', 'city': 'Dubai', 'description': 'Museum of the Future is a exhibition and immersive theatre in Dubai.', 'coordinates': {'lat': 25.2191194, 'lon': 55.2821}}\n"
     ]
    }
   ],
   "source": [
    "attraction = {\n",
    "    \"name\": name,\n",
    "    \"city\": city,\n",
    "    \"description\": description,\n",
    "    \"coordinates\": coordinates,\n",
    "}\n",
    "print(attraction)"
   ]
  },
  {
   "cell_type": "code",
   "execution_count": 21,
   "id": "dfa092a7",
   "metadata": {},
   "outputs": [
    {
     "name": "stdout",
     "output_type": "stream",
     "text": [
      "Museums_by_country: Found 200 links\n",
      "Beaches_by_country: Found 69 links\n",
      "Parks_by_country: Found 185 links\n",
      "Landmarks_by_country: Found 200 links\n",
      "Tourist_attractions_in_Europe_by_country: Found 73 links\n",
      "Tourist_attractions_in_the_United_States_by_state: Found 0 links\n",
      "Amusement_parks_by_country: Found 80 links\n",
      "Zoos_by_country: Found 107 links\n",
      "World_Heritage_Sites_by_country: Found 171 links\n",
      "JSON file created with 1085 entries.\n"
     ]
    }
   ],
   "source": [
    "import time\n",
    "\n",
    "headers = {\"User-Agent\": \"Mozilla/5.0\"}\n",
    "\n",
    "categories = [\n",
    "    \"Museums_by_country\",\n",
    "    \"Beaches_by_country\",\n",
    "    \"Parks_by_country\",\n",
    "    \"Landmarks_by_country\",\n",
    "    \"Tourist_attractions_in_Europe_by_country\",\n",
    "    \"Tourist_attractions_in_the_United_States_by_state\",\n",
    "    \"Amusement_parks_by_country\",\n",
    "    \"Zoos_by_country\",\n",
    "    \"World_Heritage_Sites_by_country\"\n",
    "]\n",
    "\n",
    "attractions = []\n",
    "\n",
    "for category in categories:\n",
    "    url = f\"https://en.wikipedia.org/wiki/Category:{category}\"\n",
    "    response = requests.get(url, headers=headers)\n",
    "    soup = BeautifulSoup(response.text, \"html.parser\")\n",
    "\n",
    "    links = []\n",
    "    for a in soup.select(\".mw-category-group ul li a\"):\n",
    "        href = a.get(\"href\")\n",
    "        if href:\n",
    "            links.append(href)\n",
    "    if not links:\n",
    "        for a in soup.select(\"div.mw-category a\"):\n",
    "            href = a.get(\"href\")\n",
    "            if href:\n",
    "                links.append(href)\n",
    "\n",
    "    print(f\"{category}: Found {len(links)} links\")\n",
    "\n",
    "    for link in links:\n",
    "        full_url = f\"https://en.wikipedia.org{link}\"\n",
    "        try:\n",
    "            r = requests.get(full_url, headers=headers)\n",
    "            s = BeautifulSoup(r.text, \"html.parser\")\n",
    "        except Exception as e:\n",
    "            print(f\"Error fetching {full_url}: {e}\")\n",
    "            continue\n",
    "\n",
    "        name_tag = s.find(\"h1\", {\"id\": \"firstHeading\"})\n",
    "        if not name_tag:\n",
    "            continue\n",
    "        name = name_tag.get_text(strip=True)\n",
    "\n",
    "        infobox = s.find(\"table\", {\"class\": \"infobox\"})\n",
    "        rows = infobox.find_all(\"tr\") if infobox else []\n",
    "\n",
    "        city = None\n",
    "        description = None\n",
    "\n",
    "        for row in rows:\n",
    "            header = row.find(\"th\")\n",
    "            data = row.find(\"td\")\n",
    "            if header and data:\n",
    "                key = header.get_text(strip=True)\n",
    "                value = data.get_text(\" \", strip=True)\n",
    "\n",
    "                if \"Location\" in key or \"Region\" in key or \"Nearest\" in key:\n",
    "                    parts = value.split(\",\")\n",
    "                    city = parts[-1].strip() \n",
    "\n",
    "                if key == \"Type\" and city:\n",
    "                    description = f\"{name} is a {value.lower()} in {city}.\"\n",
    "\n",
    "        if not description:\n",
    "            description = f\"{name} is a tourist attraction.\"\n",
    "\n",
    "        coordinates = None\n",
    "        coord_span = s.find(\"span\", {\"class\": \"geo\"})\n",
    "        if coord_span:\n",
    "            try:\n",
    "                text = coord_span.get_text().strip()\n",
    "                if \";\" in text:\n",
    "                    lat_str, lon_str = text.split(\";\")\n",
    "                elif \",\" in text:\n",
    "                    lat_str, lon_str = text.split(\",\")\n",
    "                else:\n",
    "                    lat_str = lon_str = None\n",
    "\n",
    "                if lat_str and lon_str:\n",
    "                    coordinates = {\n",
    "                        \"lat\": float(lat_str.strip()),\n",
    "                        \"lon\": float(lon_str.strip())\n",
    "                    }\n",
    "            except:\n",
    "                coordinates = None\n",
    "        else:\n",
    "            lat_tag = s.find(\"span\", {\"class\": \"latitude\"})\n",
    "            lon_tag = s.find(\"span\", {\"class\": \"longitude\"})\n",
    "            if lat_tag and lon_tag:\n",
    "                try:\n",
    "                    lat_str = lat_tag.get_text().strip().replace(\"°\", \"\")\n",
    "                    lon_str = lon_tag.get_text().strip().replace(\"°\", \"\")\n",
    "                    coordinates = {\n",
    "                        \"lat\": float(lat_str),\n",
    "                        \"lon\": float(lon_str)\n",
    "                    }\n",
    "                except:\n",
    "                    coordinates = None\n",
    "\n",
    "        if not city:\n",
    "            city = \"Unknown city\"\n",
    "\n",
    "        attraction = {\n",
    "            \"name\": name,\n",
    "            \"city\": city,\n",
    "            \"description\": description,\n",
    "            \"coordinates\": coordinates\n",
    "        }\n",
    "\n",
    "        attractions.append(attraction)\n",
    "        time.sleep(0.5)  \n",
    "\n",
    "with open(\"attractions.json\", \"w\", encoding=\"utf-8\") as f:\n",
    "    json.dump(attractions, f, indent=2, ensure_ascii=False)\n",
    "\n",
    "print(\"JSON file created with\", len(attractions), \"entries.\")\n"
   ]
  }
 ],
 "metadata": {
  "kernelspec": {
   "display_name": "base",
   "language": "python",
   "name": "python3"
  },
  "language_info": {
   "codemirror_mode": {
    "name": "ipython",
    "version": 3
   },
   "file_extension": ".py",
   "mimetype": "text/x-python",
   "name": "python",
   "nbconvert_exporter": "python",
   "pygments_lexer": "ipython3",
   "version": "3.12.4"
  }
 },
 "nbformat": 4,
 "nbformat_minor": 5
}
